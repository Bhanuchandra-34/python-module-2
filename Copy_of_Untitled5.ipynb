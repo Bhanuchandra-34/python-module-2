{
  "nbformat": 4,
  "nbformat_minor": 0,
  "metadata": {
    "colab": {
      "name": "Copy of Untitled5.ipynb",
      "provenance": [],
      "authorship_tag": "ABX9TyMD7ee2wBey/nwO+io0Gpt9",
      "include_colab_link": true
    },
    "kernelspec": {
      "name": "python3",
      "display_name": "Python 3"
    }
  },
  "cells": [
    {
      "cell_type": "markdown",
      "metadata": {
        "id": "view-in-github",
        "colab_type": "text"
      },
      "source": [
        "<a href=\"https://colab.research.google.com/github/Bhanuchandra-34/python-module-2/blob/master/Copy_of_Untitled5.ipynb\" target=\"_parent\"><img src=\"https://colab.research.google.com/assets/colab-badge.svg\" alt=\"Open In Colab\"/></a>"
      ]
    },
    {
      "cell_type": "code",
      "metadata": {
        "id": "Pq6lFjQsxF6P",
        "colab_type": "code",
        "colab": {}
      },
      "source": [
        " Assignment 3"
      ],
      "execution_count": null,
      "outputs": []
    },
    {
      "cell_type": "code",
      "metadata": {
        "id": "2iAwVpFR1rfi",
        "colab_type": "code",
        "colab": {}
      },
      "source": [
        " Question 1"
      ],
      "execution_count": null,
      "outputs": []
    },
    {
      "cell_type": "code",
      "metadata": {
        "id": "7STAHWWj1vpA",
        "colab_type": "code",
        "colab": {
          "base_uri": "https://localhost:8080/",
          "height": 34
        },
        "outputId": "a33022b4-df04-4efc-8707-02a63fc6cb5d"
      },
      "source": [
        " a=20\n",
        "b=10\n",
        "if a==b:\n",
        "  print(\"equal\")\n",
        "else:\n",
        "  print(\"unequal\")"
      ],
      "execution_count": null,
      "outputs": [
        {
          "output_type": "stream",
          "text": [
            "unequal\n"
          ],
          "name": "stdout"
        }
      ]
    },
    {
      "cell_type": "code",
      "metadata": {
        "id": "46T2GNkS2QhA",
        "colab_type": "code",
        "colab": {}
      },
      "source": [
        "Question 2"
      ],
      "execution_count": null,
      "outputs": []
    },
    {
      "cell_type": "code",
      "metadata": {
        "id": "EuEEQD_Q2cD_",
        "colab_type": "code",
        "colab": {
          "base_uri": "https://localhost:8080/",
          "height": 34
        },
        "outputId": "b370f465-e72d-443f-f861-e3533e3cb00c"
      },
      "source": [
        " a=5\n",
        "b=5\n",
        "c=10\n",
        "if a==b==c:\n",
        "  print(\"All are equal\")\n",
        "elif a==b!=c:\n",
        "  print(\"Any two are equal\")\n",
        "else:\n",
        "  print(\"All are unequal\")"
      ],
      "execution_count": null,
      "outputs": [
        {
          "output_type": "stream",
          "text": [
            "Any two are equal\n"
          ],
          "name": "stdout"
        }
      ]
    },
    {
      "cell_type": "code",
      "metadata": {
        "id": "BWDlb6TW2gkx",
        "colab_type": "code",
        "colab": {}
      },
      "source": [
        "Question 3"
      ],
      "execution_count": null,
      "outputs": []
    },
    {
      "cell_type": "code",
      "metadata": {
        "id": "aCFKttpZ2mAT",
        "colab_type": "code",
        "colab": {
          "base_uri": "https://localhost:8080/",
          "height": 51
        },
        "outputId": "14ded2d5-3cf2-4f76-e576-b409a6ae03a2"
      },
      "source": [
        " a=2\n",
        "b=3\n",
        "res=a+b\n",
        "print('res is:')\n",
        "if res > 5:\n",
        "  print(\"result is greather than 5:\",res)\n",
        "elif res < 5:\n",
        "  print(\"result is lesser than 5:\",res)\n",
        "else:\n",
        "  print(\"result is equal to 5:\",res)"
      ],
      "execution_count": null,
      "outputs": [
        {
          "output_type": "stream",
          "text": [
            "res is:\n",
            "result is equal to 5: 5\n"
          ],
          "name": "stdout"
        }
      ]
    },
    {
      "cell_type": "code",
      "metadata": {
        "id": "IstcWHm92r_g",
        "colab_type": "code",
        "colab": {}
      },
      "source": [
        "Question 4"
      ],
      "execution_count": null,
      "outputs": []
    },
    {
      "cell_type": "code",
      "metadata": {
        "id": "bsrhQIgk2tdI",
        "colab_type": "code",
        "colab": {
          "base_uri": "https://localhost:8080/",
          "height": 51
        },
        "outputId": "bc8e7ada-cc62-4d2c-cef1-a7ab40775a1e"
      },
      "source": [
        " a=int(input('enter value of a:'))\n",
        "if a > 35:\n",
        "  print(\"your number is greather than 35\")\n",
        "else:\n",
        "  print(\"your number is less than 35\")"
      ],
      "execution_count": null,
      "outputs": [
        {
          "output_type": "stream",
          "text": [
            "enter value of a:10\n",
            "your number is less than 35\n"
          ],
          "name": "stdout"
        }
      ]
    },
    {
      "cell_type": "code",
      "metadata": {
        "id": "uDa8z24E23tN",
        "colab_type": "code",
        "colab": {}
      },
      "source": [
        "Question 5"
      ],
      "execution_count": null,
      "outputs": []
    },
    {
      "cell_type": "code",
      "metadata": {
        "id": "94PAqbnt24xH",
        "colab_type": "code",
        "colab": {
          "base_uri": "https://localhost:8080/",
          "height": 34
        },
        "outputId": "9a38445c-b2af-4116-923c-128f7b97a8b3"
      },
      "source": [
        " \n",
        "def max_of_two( x, y ):\n",
        "  if x > y:\n",
        "    return x\n",
        "  return y\n",
        "def max_of_three( x, y, z ):\n",
        "  return max_of_two( x, max_of_two( y, z) )\n",
        "print(max_of_three(3, 6, -5))"
      ],
      "execution_count": null,
      "outputs": [
        {
          "output_type": "stream",
          "text": [
            "6\n"
          ],
          "name": "stdout"
        }
      ]
    }
  ]
}