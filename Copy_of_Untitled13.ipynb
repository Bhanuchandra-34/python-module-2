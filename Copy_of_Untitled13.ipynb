{
  "nbformat": 4,
  "nbformat_minor": 0,
  "metadata": {
    "colab": {
      "name": "Copy of Untitled13.ipynb",
      "provenance": [],
      "authorship_tag": "ABX9TyMh6rbiYm9CEF4eRUekJrBD",
      "include_colab_link": true
    },
    "kernelspec": {
      "name": "python3",
      "display_name": "Python 3"
    }
  },
  "cells": [
    {
      "cell_type": "markdown",
      "metadata": {
        "id": "view-in-github",
        "colab_type": "text"
      },
      "source": [
        "<a href=\"https://colab.research.google.com/github/Bhanuchandra-34/python-module-2/blob/master/Copy_of_Untitled13.ipynb\" target=\"_parent\"><img src=\"https://colab.research.google.com/assets/colab-badge.svg\" alt=\"Open In Colab\"/></a>"
      ]
    },
    {
      "cell_type": "code",
      "metadata": {
        "id": "vQUcTMoW27nZ",
        "colab_type": "code",
        "colab": {}
      },
      "source": [
        "Assignment 3"
      ],
      "execution_count": null,
      "outputs": []
    },
    {
      "cell_type": "code",
      "metadata": {
        "id": "NKXhwHKx2-wH",
        "colab_type": "code",
        "colab": {}
      },
      "source": [
        "Question 1"
      ],
      "execution_count": null,
      "outputs": []
    },
    {
      "cell_type": "code",
      "metadata": {
        "id": "CfdlppZV2_3B",
        "colab_type": "code",
        "colab": {}
      },
      "source": [
        " Program to find the area of a circle using math functions."
      ],
      "execution_count": null,
      "outputs": []
    },
    {
      "cell_type": "code",
      "metadata": {
        "id": "_bz1EMk93KSl",
        "colab_type": "code",
        "colab": {
          "base_uri": "https://localhost:8080/",
          "height": 71
        },
        "outputId": "868052b2-0012-42ef-882b-0fae10047c2a"
      },
      "source": [
        " import math\n",
        "radius= float(input(\"Enter the radius of the circle: \"))\n",
        "area= math.pi*(math.pow(radius,2))\n",
        "result= round(area,3)\n",
        "print(\"The area of the circle with radius\",radius,\"is:\",result)"
      ],
      "execution_count": null,
      "outputs": [
        {
          "output_type": "stream",
          "text": [
            "Enter the radius of the circle: 3\n",
            "The area of the circle with radius 3.0 is: 28.274\n"
          ],
          "name": "stdout"
        }
      ]
    },
    {
      "cell_type": "code",
      "metadata": {
        "id": "RtI-KCPZ3U7w",
        "colab_type": "code",
        "colab": {}
      },
      "source": [
        "Question 2"
      ],
      "execution_count": null,
      "outputs": []
    },
    {
      "cell_type": "code",
      "metadata": {
        "id": "gBGFPgQu3WJs",
        "colab_type": "code",
        "colab": {}
      },
      "source": [
        " 2.Program to find the area of a regular polygon using math functions\n",
        " \n",
        "Formula: area= (s^2 n)/(4 tan(pi/n)), where s is the length of any side and n is the number of sides"
      ],
      "execution_count": null,
      "outputs": []
    },
    {
      "cell_type": "code",
      "metadata": {
        "id": "bkoskgGJ3akG",
        "colab_type": "code",
        "colab": {
          "base_uri": "https://localhost:8080/",
          "height": 88
        },
        "outputId": "88322105-2040-4cc9-b169-0dd31ba9ba73"
      },
      "source": [
        " s= float(input(\"Enter the length of any side: \"))\n",
        "n= int(input(\"Enter the number of sides in the regular polygon: \"))\n",
        "numerator= math.pow(s,2)*n\n",
        "denominator= 4*(math.tan(math.pi/n))\n",
        "area= numerator/denominator\n",
        "print(\"The area of the regular polygon is:\",area)"
      ],
      "execution_count": null,
      "outputs": [
        {
          "output_type": "stream",
          "text": [
            "Enter the length of any side: 2\n",
            "Enter the number of sides in the regular polygon: 40\n",
            "The area of the regular polygon is: 508.24818944698825\n"
          ],
          "name": "stdout"
        }
      ]
    },
    {
      "cell_type": "code",
      "metadata": {
        "id": "1M3pua043lRC",
        "colab_type": "code",
        "colab": {}
      },
      "source": [
        "Question 3"
      ],
      "execution_count": null,
      "outputs": []
    },
    {
      "cell_type": "code",
      "metadata": {
        "id": "d8GitBtv3nc7",
        "colab_type": "code",
        "colab": {}
      },
      "source": [
        " 3.Program to find the area of a segment of a circle using math functions\n",
        " \n",
        "Formula: area= (r^2/2) (pi c/180 - sinc)"
      ],
      "execution_count": null,
      "outputs": []
    },
    {
      "cell_type": "code",
      "metadata": {
        "id": "-GXGeYte3swd",
        "colab_type": "code",
        "colab": {
          "base_uri": "https://localhost:8080/",
          "height": 88
        },
        "outputId": "72579697-05f3-48d7-d8b0-50aebd965377"
      },
      "source": [
        " import math\n",
        "r= float(input(\"Enter the radius of the circle: \"))\n",
        "c= int(input(\"Enter the value of central angle in degrees: \"))\n",
        "part_one= (math.pow(r,2))/2\n",
        "part_two= ((((math.pi)/180)*c)-math.sin(c))\n",
        "area= part_one*part_two\n",
        "print(\"Area of the segment of a circle of radius\",r, \"and central angle\",c,\"is:\",area)"
      ],
      "execution_count": null,
      "outputs": [
        {
          "output_type": "stream",
          "text": [
            "Enter the radius of the circle: 2\n",
            "Enter the value of central angle in degrees: 40\n",
            "Area of the segment of a circle of radius 2.0 and central angle 40 is: -0.09396291936323409\n"
          ],
          "name": "stdout"
        }
      ]
    },
    {
      "cell_type": "code",
      "metadata": {
        "id": "QyywR4Qe32V6",
        "colab_type": "code",
        "colab": {}
      },
      "source": [
        "Question 4"
      ],
      "execution_count": null,
      "outputs": []
    },
    {
      "cell_type": "code",
      "metadata": {
        "id": "WAm2P2KS33rl",
        "colab_type": "code",
        "colab": {}
      },
      "source": [
        " 4.Program to shuffle a list"
      ],
      "execution_count": null,
      "outputs": []
    },
    {
      "cell_type": "code",
      "metadata": {
        "id": "PgzyCWsL38pH",
        "colab_type": "code",
        "colab": {
          "base_uri": "https://localhost:8080/",
          "height": 71
        },
        "outputId": "88e25714-5380-48e6-c131-6470d6b66ec8"
      },
      "source": [
        " from random import shuffle\n",
        "mylist=[100,1,2,3,30,40,\"hey\",\"hello\"]\n",
        "print(\"List before shuffling:\",mylist)\n",
        "shuffle(mylist)\n",
        "print(\"List after shuffling:\",mylist)"
      ],
      "execution_count": null,
      "outputs": [
        {
          "output_type": "stream",
          "text": [
            "List before shuffling: [100, 1, 2, 3, 30, 40, 'hey', 'hello']\n",
            "List after shuffling: [3, 100, 30, 1, 40, 'hello', 2, 'hey']\n"
          ],
          "name": "stdout"
        }
      ]
    },
    {
      "cell_type": "code",
      "metadata": {
        "id": "y-uony_p4BGe",
        "colab_type": "code",
        "colab": {}
      },
      "source": [
        "Question 5"
      ],
      "execution_count": null,
      "outputs": []
    },
    {
      "cell_type": "code",
      "metadata": {
        "id": "IFYmi31K4CsP",
        "colab_type": "code",
        "colab": {}
      },
      "source": [
        " 5.Program to generate random numbers between 1 and 10,000 and difference between each random number is 50."
      ],
      "execution_count": null,
      "outputs": []
    },
    {
      "cell_type": "code",
      "metadata": {
        "id": "6RIRfII54FWP",
        "colab_type": "code",
        "colab": {
          "base_uri": "https://localhost:8080/",
          "height": 54
        },
        "outputId": "9be4a12a-1c7f-4e8f-e558-4355cadc3102"
      },
      "source": [
        " import random\n",
        "print(\"Random number between 1 and 10000 which has a step of 50:\",random.randrange(1,10000,50))"
      ],
      "execution_count": null,
      "outputs": [
        {
          "output_type": "stream",
          "text": [
            "Random number between 1 and 10000 which has a step of 50: 6851\n"
          ],
          "name": "stdout"
        }
      ]
    },
    {
      "cell_type": "code",
      "metadata": {
        "id": "FUoPht6w4Kio",
        "colab_type": "code",
        "colab": {}
      },
      "source": [
        "Question 6"
      ],
      "execution_count": null,
      "outputs": []
    },
    {
      "cell_type": "code",
      "metadata": {
        "id": "S1CyBhKG4L1t",
        "colab_type": "code",
        "colab": {
          "base_uri": "https://localhost:8080/",
          "height": 225
        },
        "outputId": "b91aed32-88f8-469e-ed4e-4cc896522657"
      },
      "source": [
        " import math\n",
        "print(\"Sine of 60=\",math.sin(60))\n",
        "print(\"Cos of pi=\",math.cos(math.pi))\n",
        "print(\"Tan of 90=\",math.tan(90))\n",
        "print(\"Angle of sin 0.8660254037844386=\",math.sin(0.8660254037844386))\n",
        "print(\"5^8=\",math.pow(5,8))\n",
        "print(\"Square root of 400=\",math.sqrt(400))\n",
        "print(\"The value of 5^e=\",math.pow(5,math.e))\n",
        "print(\"Log(1024), base 2=\",math.log(1024,2))\n",
        "print(\"Log(1024), base 10=\",math.log(1024,10))\n",
        "print(\"Floor of 23.56=\",math.floor(23.56))\n",
        "print(\"Ceiling of 23.56=\",math.ceil(23.56))"
      ],
      "execution_count": null,
      "outputs": [
        {
          "output_type": "stream",
          "text": [
            "Sine of 60= -0.3048106211022167\n",
            "Cos of pi= -1.0\n",
            "Tan of 90= -1.995200412208242\n",
            "Angle of sin 0.8660254037844386= 0.7617599814162892\n",
            "5^8= 390625.0\n",
            "Square root of 400= 20.0\n",
            "The value of 5^e= 79.43235916621322\n",
            "Log(1024), base 2= 10.0\n",
            "Log(1024), base 10= 3.0102999566398116\n",
            "Floor of 23.56= 23\n",
            "Ceiling of 23.56= 24\n"
          ],
          "name": "stdout"
        }
      ]
    }
  ]
}