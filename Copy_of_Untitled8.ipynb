{
  "nbformat": 4,
  "nbformat_minor": 0,
  "metadata": {
    "colab": {
      "name": "Copy of Untitled8.ipynb",
      "provenance": [],
      "authorship_tag": "ABX9TyNiS/g8gyKFSQy5aSp0jjaj",
      "include_colab_link": true
    },
    "kernelspec": {
      "name": "python3",
      "display_name": "Python 3"
    }
  },
  "cells": [
    {
      "cell_type": "markdown",
      "metadata": {
        "id": "view-in-github",
        "colab_type": "text"
      },
      "source": [
        "<a href=\"https://colab.research.google.com/github/Bhanuchandra-34/python-module-2/blob/master/Copy_of_Untitled8.ipynb\" target=\"_parent\"><img src=\"https://colab.research.google.com/assets/colab-badge.svg\" alt=\"Open In Colab\"/></a>"
      ]
    },
    {
      "cell_type": "code",
      "metadata": {
        "id": "xeDo13Fobuvv",
        "colab_type": "code",
        "colab": {}
      },
      "source": [
        "Assignment 2"
      ],
      "execution_count": null,
      "outputs": []
    },
    {
      "cell_type": "code",
      "metadata": {
        "id": "F9OZwwKnb2co",
        "colab_type": "code",
        "colab": {}
      },
      "source": [
        "Question 1"
      ],
      "execution_count": null,
      "outputs": []
    },
    {
      "cell_type": "code",
      "metadata": {
        "id": "SA1DUUuyb3sn",
        "colab_type": "code",
        "colab": {
          "base_uri": "https://localhost:8080/",
          "height": 34
        },
        "outputId": "0edd9596-e68c-4d76-9027-1c62f22eddc3"
      },
      "source": [
        " def maximum(a, b, c):\n",
        "  if (a >= b) and (a >= c):\n",
        "    largest = a\n",
        "  elif ( b >= a) and (b >= c):\n",
        "    largest = b\n",
        "  else:\n",
        "    largest = c\n",
        "  return largest \n",
        "a = 10\n",
        "b = 14\n",
        "c = 12  \n",
        "print(maximum(a, b, c))"
      ],
      "execution_count": null,
      "outputs": [
        {
          "output_type": "stream",
          "text": [
            "14\n"
          ],
          "name": "stdout"
        }
      ]
    },
    {
      "cell_type": "code",
      "metadata": {
        "id": "cWppGCiyb_az",
        "colab_type": "code",
        "colab": {}
      },
      "source": [
        "Question 2"
      ],
      "execution_count": null,
      "outputs": []
    },
    {
      "cell_type": "code",
      "metadata": {
        "id": "Ndl6ikFKcAb-",
        "colab_type": "code",
        "colab": {
          "base_uri": "https://localhost:8080/",
          "height": 34
        },
        "outputId": "14366865-eafd-4ef0-ad98-acbd96994dc5"
      },
      "source": [
        " txt = \"Hello World\"[::-1]\n",
        "print(txt)"
      ],
      "execution_count": null,
      "outputs": [
        {
          "output_type": "stream",
          "text": [
            "dlroW olleH\n"
          ],
          "name": "stdout"
        }
      ]
    },
    {
      "cell_type": "code",
      "metadata": {
        "id": "CPg_ve-fcE1p",
        "colab_type": "code",
        "colab": {}
      },
      "source": [
        "Question 3"
      ],
      "execution_count": null,
      "outputs": []
    },
    {
      "cell_type": "code",
      "metadata": {
        "id": "nSYF3vsgcGFs",
        "colab_type": "code",
        "colab": {
          "base_uri": "https://localhost:8080/",
          "height": 34
        },
        "outputId": "26749f92-1acd-43a3-cdec-d2ea51c82ab4"
      },
      "source": [
        " num=11\n",
        "if num > 1:\n",
        "  for i in range(2, num):\n",
        "    if (num % i) == 0:\n",
        "      print(num, \"is not a prime number\")\n",
        "      break\n",
        "  else:\n",
        "      print(num, \"is a prime number\")\n",
        "else:\n",
        "   print(num, \"is not a prime number\")"
      ],
      "execution_count": null,
      "outputs": [
        {
          "output_type": "stream",
          "text": [
            "11 is a prime number\n"
          ],
          "name": "stdout"
        }
      ]
    },
    {
      "cell_type": "code",
      "metadata": {
        "id": "4BamxSy-cLZc",
        "colab_type": "code",
        "colab": {}
      },
      "source": [
        "Question 4"
      ],
      "execution_count": null,
      "outputs": []
    },
    {
      "cell_type": "code",
      "metadata": {
        "id": "1KggxG2acMkm",
        "colab_type": "code",
        "colab": {
          "base_uri": "https://localhost:8080/",
          "height": 85
        },
        "outputId": "a3da9c06-e1d7-46dd-bd0f-1f07b43e3910"
      },
      "source": [
        " \n",
        "try:\n",
        "  n=int(input(\"Enter number:\"))\n",
        "  temp=n\n",
        "  rev=0\n",
        "  while(n>0):\n",
        "    dig=n%10\n",
        "    rev=rev*10+dig\n",
        "    n=n//10\n",
        "    if(temp==rev):\n",
        "      print(\"the number is a palindrome!\")\n",
        "    else:\n",
        "      print(\"the number is not a palindrome\")  \n",
        "except:\n",
        "  print(\"can't find a file\")\n",
        "finally:\n",
        "  print(\"Finally block is executed\")"
      ],
      "execution_count": null,
      "outputs": [
        {
          "output_type": "stream",
          "text": [
            "Enter number:10\n",
            "the number is not a palindrome\n",
            "the number is not a palindrome\n",
            "Finally block is executed\n"
          ],
          "name": "stdout"
        }
      ]
    },
    {
      "cell_type": "code",
      "metadata": {
        "id": "JZ9leKaacSn5",
        "colab_type": "code",
        "colab": {}
      },
      "source": [
        "Question 5"
      ],
      "execution_count": null,
      "outputs": []
    },
    {
      "cell_type": "code",
      "metadata": {
        "id": "hmVk8ayAcUBg",
        "colab_type": "code",
        "colab": {
          "base_uri": "https://localhost:8080/",
          "height": 34
        },
        "outputId": "835ce497-6c99-4330-b940-d61b1c6f7d38"
      },
      "source": [
        " def squaresum(n) :\n",
        "  return (n * (n + 1) / 2) * (2 * n + 1) /3\n",
        "n=4\n",
        "print(squaresum(n)) ;"
      ],
      "execution_count": null,
      "outputs": [
        {
          "output_type": "stream",
          "text": [
            "30.0\n"
          ],
          "name": "stdout"
        }
      ]
    }
  ]
}